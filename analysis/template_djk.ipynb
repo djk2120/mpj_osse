{
 "cells": [
  {
   "cell_type": "code",
   "execution_count": 47,
   "id": "b89578aa-baf1-46eb-9bca-afb5853c26ae",
   "metadata": {},
   "outputs": [],
   "source": [
    "import numpy as np\n",
    "import pandas as pd\n",
    "import xarray as xr\n",
    "import glob\n",
    "import matplotlib\n",
    "import matplotlib.pyplot as plt\n",
    "import dask\n",
    "from dask_jobqueue import PBSCluster\n",
    "from dask.distributed import Client\n",
    "import statsmodels.api as sm\n",
    "import os\n"
   ]
  },
  {
   "cell_type": "code",
   "execution_count": 2,
   "id": "6a6c32f2-768b-4cbf-927e-566fd0c15957",
   "metadata": {},
   "outputs": [
    {
     "name": "stderr",
     "output_type": "stream",
     "text": [
      "/glade/work/djk2120/miniconda3/envs/ppe-py/lib/python3.7/site-packages/distributed/node.py:161: UserWarning: Port 8787 is already in use.\n",
      "Perhaps you already have a cluster running?\n",
      "Hosting the HTTP server on port 41401 instead\n",
      "  f\"Port {expected} is already in use.\\n\"\n"
     ]
    }
   ],
   "source": [
    "# Setup your PBSCluster\n",
    "\n",
    "project = 'P93300641' #input your project code\n",
    "cluster = PBSCluster(\n",
    "    cores=1, # The number of cores you want\n",
    "    memory='25GB', # Amount of memory\n",
    "    processes=1, # How many processes\n",
    "    queue='casper', # The type of queue to utilize (/glade/u/apps/dav/opt/usr/bin/execcasper)\n",
    "    local_directory='$TMPDIR', # Use your local directory\n",
    "    resource_spec='select=1:ncpus=1:mem=25GB', # Specify resources\n",
    "    project=project, # Input your project ID here\n",
    "    walltime='01:30:00', # Amount of wall time\n",
    "    interface='ib0', # Interface to use\n",
    ")\n",
    "\n",
    "# Scale up\n",
    "cluster.scale(20)\n",
    "\n",
    "# Setup your client\n",
    "client = Client(cluster)"
   ]
  },
  {
   "cell_type": "code",
   "execution_count": 3,
   "id": "5240471d-38a0-43db-ae90-a6c55f9216cf",
   "metadata": {},
   "outputs": [
    {
     "data": {
      "application/vnd.jupyter.widget-view+json": {
       "model_id": "98301aec250c46348e0c709c296ecf15",
       "version_major": 2,
       "version_minor": 0
      },
      "text/plain": [
       "Tab(children=(HTML(value='<div class=\"jp-RenderedHTMLCommon jp-RenderedHTML jp-mod-trusted jp-OutputArea-outpu…"
      ]
     },
     "metadata": {},
     "output_type": "display_data"
    }
   ],
   "source": [
    "client.cluster"
   ]
  },
  {
   "cell_type": "code",
   "execution_count": 4,
   "id": "4cc57622-2fb7-4dd8-a3cb-57729009d534",
   "metadata": {},
   "outputs": [],
   "source": [
    "def get_files(exp):\n",
    "    d='/glade/scratch/djk2120/PPEn11/amflx_lhc/hist/'+exp+'/*.nc'\n",
    "    files = sorted(glob.glob(d))\n",
    "    return files"
   ]
  },
  {
   "cell_type": "code",
   "execution_count": 90,
   "id": "114f2cfc-1ab9-4f02-a277-ee91c465fb64",
   "metadata": {},
   "outputs": [],
   "source": [
    "import operator\n",
    "def sort_files(exp):\n",
    "\n",
    "    #get files\n",
    "    files=get_files(exp)[1:]  #exclude default case\n",
    "    keys=[f.split('.clm2.')[0][-4:] for f in files]\n",
    "\n",
    "    #get param values\n",
    "    pdir='/glade/scratch/djk2120/PPEn11/amflx_lhc/paramfiles/'\n",
    "    pfiles=[pdir+key+'.nc' for key in keys]\n",
    "    def preprocess(ds):\n",
    "        dvs=['kmax','psi50']\n",
    "        return ds[dvs].isel(segment=0,pft=1)\n",
    "    ds = xr.open_mfdataset(pfiles,combine='nested',concat_dim='ens',\n",
    "                           parallel=True,preprocess=preprocess)\n",
    "    \n",
    "    #sort and reshape\n",
    "    s=[[f,k,p] for f,k,p in zip(files,ds.kmax.values,ds.psi50.values)]\n",
    "    s.sort(key = operator.itemgetter(1, 2))\n",
    "    files=np.array([l[0] for l in s])\n",
    "    nkmax=len(np.unique(ds.kmax))\n",
    "    np50=len(np.unique(ds.psi50))\n",
    "    files=files.reshape([nkmax,np50]).tolist()\n",
    "    kmax=[l[1] for l in s[::np50]]\n",
    "    p50=[l[2] for l in s[:np50]]\n",
    "\n",
    "    return files,kmax,p50"
   ]
  },
  {
   "cell_type": "code",
   "execution_count": 98,
   "id": "6baf7b68-2969-4f14-9b19-f4ece9fa2e33",
   "metadata": {},
   "outputs": [],
   "source": [
    "def get_ds(exp,dvs=[]):\n",
    "    files,kmax,p50=sort_files(exp)\n",
    "\n",
    "    #set up the preprocessing function\n",
    "    def preprocess(ds,singles=False):\n",
    "        nt = len(ds.time)\n",
    "        ix = np.arange(nt)<nt-1 #first timestep is not meaningful\n",
    "        if singles:\n",
    "            onecopy  = ['RAIN','SNOW','FSDS','mcsec','TLAI','TBOT','RH']\n",
    "            ds2 = ds[onecopy].shift(time=-1).isel(time=ix,lndgrid=0)\n",
    "        else:\n",
    "            if len(dvs)==0:\n",
    "                tmp = xr.open_dataset(files[0])\n",
    "                i=0\n",
    "                for v in tmp.data_vars:\n",
    "                    if 'time' in tmp[v].dims:\n",
    "                        i+=1\n",
    "                        if i>8:\n",
    "                            dvs.append(v)\n",
    "            ds2 = ds[dvs].shift(time=-1).isel(time=ix,lndgrid=0)\n",
    "        return ds2\n",
    "\n",
    "    \n",
    "    #read the dataset\n",
    "    ds = xr.open_mfdataset(files,combine='nested',concat_dim=['kmax','p50'],parallel=True,\n",
    "                           preprocess=preprocess)\n",
    "    ds0 = preprocess(xr.open_dataset(files[0][0]),singles=True)\n",
    "    for v in ds0.data_vars:\n",
    "        ds[v]=ds0[v]\n",
    "        \n",
    "    #add params\n",
    "    ds['kmax']=kmax\n",
    "    ds['p50']=np.array(p50)/101974\n",
    "    \n",
    "    #compute VPD from forcing data\n",
    "    t=ds.TBOT-273.15\n",
    "    rh=ds.RH/100\n",
    "    es=0.61094*np.exp(17.625*t/(t+234.04))\n",
    "    ds['ESAT']=es\n",
    "    ds['VPD']=((1-rh)*es).compute()\n",
    "    ds['VPD'].attrs={'long_name':'vapor pressure deficit','units':'kPa'}\n",
    "\n",
    "    #provide hour label\n",
    "    #account for time zone, should double check this\n",
    "    ndays=int(len(ds.time)/48)\n",
    "    offset=36\n",
    "    d=(np.arange(48))/2\n",
    "    d=[*d[offset:],*d[:offset]]\n",
    "    x=np.tile(d,ndays)\n",
    "    ds['hour']=xr.DataArray(x,dims='time')\n",
    "    \n",
    "\n",
    "\n",
    "    return ds"
   ]
  },
  {
   "cell_type": "markdown",
   "id": "11d8b4a9-14be-435d-b051-ee2506f22560",
   "metadata": {},
   "source": [
    "### START HERE"
   ]
  },
  {
   "cell_type": "code",
   "execution_count": 99,
   "id": "b8586f2a-b6ce-429d-8447-bb9c9a94d9ec",
   "metadata": {},
   "outputs": [
    {
     "name": "stdout",
     "output_type": "stream",
     "text": [
      "CPU times: user 5.42 s, sys: 1.78 s, total: 7.2 s\n",
      "Wall time: 14.9 s\n"
     ]
    }
   ],
   "source": [
    "%%time\n",
    "exp='CTL2010SP'\n",
    "dvs=['FPSN','EFLX_LH_TOT','SOILWATER_10CM','TBOT']\n",
    "ds1=get_ds(exp,dvs)"
   ]
  },
  {
   "cell_type": "code",
   "execution_count": 100,
   "id": "0516bb1a-84f6-4dab-9094-edc946b99d43",
   "metadata": {},
   "outputs": [
    {
     "data": {
      "image/png": "[encoded data removed]",
      "text/plain": [
       "<Figure size 432x288 with 2 Axes>"
      ]
     },
     "metadata": {
      "needs_background": "light"
     },
     "output_type": "display_data"
    }
   ],
   "source": [
    "ds1.FPSN.mean(dim='time').plot();"
   ]
  },
  {
   "cell_type": "code",
   "execution_count": 12,
   "id": "07ea0f18-2606-4830-a481-1861c8a5b31b",
   "metadata": {},
   "outputs": [
    {
     "name": "stdout",
     "output_type": "stream",
     "text": [
      "CPU times: user 4.97 s, sys: 2.82 s, total: 7.78 s\n",
      "Wall time: 17.9 s\n"
     ]
    }
   ],
   "source": [
    "%%time\n",
    "exp='1.5CSP'\n",
    "dvs=['FPSN','EFLX_LH_TOT','SOILWATER_10CM','TBOT']\n",
    "ds2=get_ds(exp,dvs)"
   ]
  },
  {
   "cell_type": "markdown",
   "id": "334b762b-4c2a-42a1-9e70-66b1cfd79beb",
   "metadata": {},
   "source": [
    "## "
   ]
  },
  {
   "cell_type": "code",
   "execution_count": 126,
   "id": "71e7b183-a2b9-4856-9f6f-1836a6f75388",
   "metadata": {},
   "outputs": [
    {
     "name": "stdout",
     "output_type": "stream",
     "text": [
      "CPU times: user 4.46 s, sys: 2.46 s, total: 6.92 s\n",
      "Wall time: 15.1 s\n"
     ]
    }
   ],
   "source": [
    "%%time\n",
    "exp='80precSP'\n",
    "dvs=['FPSN','EFLX_LH_TOT','SOILWATER_10CM','VEGWP']\n",
    "ds2=get_ds(exp,dvs)"
   ]
  },
  {
   "cell_type": "code",
   "execution_count": null,
   "id": "c2912ccb-86cc-4e54-bdf1-b1c18ce67d31",
   "metadata": {},
   "outputs": [],
   "source": []
  },
  {
   "cell_type": "code",
   "execution_count": null,
   "id": "587e579a-2fe3-4aae-b069-821c1ed1e6f6",
   "metadata": {},
   "outputs": [],
   "source": []
  }
 ],
 "metadata": {
  "kernelspec": {
   "display_name": "Python [conda env:miniconda3-ppe-py]",
   "language": "python",
   "name": "conda-env-miniconda3-ppe-py-py"
  },
  "language_info": {
   "codemirror_mode": {
    "name": "ipython",
    "version": 3
   },
   "file_extension": ".py",
   "mimetype": "text/x-python",
   "name": "python",
   "nbconvert_exporter": "python",
   "pygments_lexer": "ipython3",
   "version": "3.7.10"
  }
 },
 "nbformat": 4,
 "nbformat_minor": 5
}
