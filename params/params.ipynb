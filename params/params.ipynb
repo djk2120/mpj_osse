{
 "cells": [
  {
   "cell_type": "code",
   "execution_count": 40,
   "id": "8cfaab23-992a-49b0-b81b-8d6e3e6b0ec0",
   "metadata": {},
   "outputs": [],
   "source": [
    "import xarray as xr\n",
    "import pandas as pd\n",
    "import numpy as np\n",
    "import os\n",
    "import netCDF4\n",
    "import xarray as xr\n",
    "import glob\n",
    "from matplotlib import pyplot as plt"
   ]
  },
  {
   "cell_type": "code",
   "execution_count": 2,
   "id": "97c5d2b7-f606-472e-9ce6-dd6fa228f6cc",
   "metadata": {},
   "outputs": [],
   "source": [
    "### import some analysis functions we wrote for this project\n",
    "import sys ; sys.path.append(\"../../ppe_tools\")\n",
    "from ppe_tools import Ensemble,Member,ParamInfo\n",
    "from ppe_tools.utils import *"
   ]
  },
  {
   "cell_type": "code",
   "execution_count": 105,
   "id": "de87dd36-2f16-4798-95d5-dd9cacef70a4",
   "metadata": {},
   "outputs": [],
   "source": [
    "df=pd.read_csv('test.csv')"
   ]
  },
  {
   "cell_type": "code",
   "execution_count": 106,
   "id": "da823df6-8547-46b3-b28c-094f5b73555c",
   "metadata": {},
   "outputs": [],
   "source": [
    "include=df.final.values=='1'"
   ]
  },
  {
   "cell_type": "code",
   "execution_count": 107,
   "id": "bf42107b-4e0d-47e0-b8e3-be25fb7dc442",
   "metadata": {},
   "outputs": [
    {
     "data": {
      "text/plain": [
       "{'kmax': [3e-09, 3.8e-08], 'psi50': [275000.0, 700000.0]}"
      ]
     },
     "execution_count": 107,
     "metadata": {},
     "output_type": "execute_result"
    }
   ],
   "source": [
    "ranges={}\n",
    "for p in df.name[include].values:\n",
    "    ix=df.name==p\n",
    "    ranges[p]=[float(df[m][ix].values) for m in ['min','max']]\n",
    "ranges"
   ]
  },
  {
   "cell_type": "code",
   "execution_count": 108,
   "id": "11cd8400-30a5-4617-9f18-3d8ba6478a29",
   "metadata": {},
   "outputs": [],
   "source": [
    "nparams=len(ranges)\n",
    "nx    = 100\n",
    "nper  = int(np.round(nx**(1/len(ranges))))\n",
    "nx = nper**len(ranges)\n",
    "samples=[[*str(np.base_repr(i,nper)).zfill(nparams)] for i in range(nx)]"
   ]
  },
  {
   "cell_type": "code",
   "execution_count": 109,
   "id": "f8540b8c-66b6-40e2-883e-5c4a2fa290c5",
   "metadata": {},
   "outputs": [],
   "source": [
    "vals={}\n",
    "for i,p in enumerate(ranges):\n",
    "    ls=np.linspace(ranges[p][0],ranges[p][1],nper)\n",
    "    vals[p]=[ls[int(s[i])] for s in samples]"
   ]
  },
  {
   "cell_type": "code",
   "execution_count": 135,
   "id": "730bc395-885c-4acf-ac64-ef68b679918f",
   "metadata": {},
   "outputs": [
    {
     "data": {
      "image/png": "[encoded data removed]",
      "text/plain": [
       "<Figure size 432x288 with 1 Axes>"
      ]
     },
     "metadata": {
      "needs_background": "light"
     },
     "output_type": "display_data"
    }
   ],
   "source": [
    "plt.plot(vals['kmax'],vals['psi50'],'.');"
   ]
  },
  {
   "cell_type": "code",
   "execution_count": null,
   "id": "0c0380ce-6898-4d37-aa32-d85651ccbfbc",
   "metadata": {},
   "outputs": [],
   "source": [
    "## CREATE and EDIT the new paramfile\n",
    "cmd = 'cp '+self._basefile+' '+pfile\n",
    "os.system(cmd)\n",
    "dset = netCDF4.Dataset(pfile,'r+')\n",
    "for param in ranges:\n",
    "\n",
    "    dset[param][:] = self._paramdict[param].value\n",
    "dset.close()"
   ]
  },
  {
   "cell_type": "code",
   "execution_count": 116,
   "id": "5d989720-f8bf-4a33-a7f7-fa8cc09482c5",
   "metadata": {},
   "outputs": [],
   "source": [
    "pdir='/glade/scratch/djk2120/PPEn11/amflx_lhc/paramfiles/'\n",
    "basefile=pdir+'basefile.nc'"
   ]
  },
  {
   "cell_type": "code",
   "execution_count": 120,
   "id": "f3444aa3-d6a5-4d69-b5ca-90d5810042ac",
   "metadata": {},
   "outputs": [],
   "source": []
  },
  {
   "cell_type": "code",
   "execution_count": 125,
   "id": "b6dfc9a5-dfda-4cc8-940a-0f919885c8a6",
   "metadata": {},
   "outputs": [],
   "source": [
    "for i in range(nx):\n",
    "    k='a'+str(i+1).zfill(3)\n",
    "    pfile=pdir+k+'.nc'\n",
    "    cmd = 'cp '+basefile+' '+pfile\n",
    "    os.system(cmd)\n",
    "    dset = netCDF4.Dataset(pfile,'r+')\n",
    "    for param in ranges:\n",
    "        dset[param][:] = vals[param][i]\n",
    "    dset.close()"
   ]
  },
  {
   "cell_type": "code",
   "execution_count": 127,
   "id": "876b0ad8-f09b-4b67-892c-486d2b449210",
   "metadata": {},
   "outputs": [],
   "source": []
  },
  {
   "cell_type": "code",
   "execution_count": 130,
   "id": "9d55951e-aa91-4dac-84f7-cb5004e205a7",
   "metadata": {},
   "outputs": [],
   "source": [
    "## check that the pfiles look correct\n",
    "dvs=[p for p in ranges]\n",
    "def preprocess(ds):\n",
    "    return ds[dvs]\n",
    "files = sorted(glob.glob(pdir+'a*.nc'))\n",
    "ds = xr.open_mfdataset(files,combine='nested',concat_dim='ens',preprocess=preprocess)\n",
    "\n"
   ]
  },
  {
   "cell_type": "code",
   "execution_count": 136,
   "id": "16572f3e-ddec-48a5-957b-7968ca7d0346",
   "metadata": {},
   "outputs": [
    {
     "data": {
      "image/png": "[encoded data removed]",
      "text/plain": [
       "<Figure size 432x288 with 1 Axes>"
      ]
     },
     "metadata": {
      "needs_background": "light"
     },
     "output_type": "display_data"
    }
   ],
   "source": [
    "plt.plot(ds.kmax.isel(segment=0,pft=1),ds.psi50.isel(segment=0,pft=1),'.');"
   ]
  },
  {
   "cell_type": "code",
   "execution_count": null,
   "id": "5b376b10-638b-4abe-b6f3-c2c01e39cfbc",
   "metadata": {},
   "outputs": [],
   "source": []
  }
 ],
 "metadata": {
  "kernelspec": {
   "display_name": "Python [conda env:miniconda3-ppe-py]",
   "language": "python",
   "name": "conda-env-miniconda3-ppe-py-py"
  },
  "language_info": {
   "codemirror_mode": {
    "name": "ipython",
    "version": 3
   },
   "file_extension": ".py",
   "mimetype": "text/x-python",
   "name": "python",
   "nbconvert_exporter": "python",
   "pygments_lexer": "ipython3",
   "version": "3.7.10"
  }
 },
 "nbformat": 4,
 "nbformat_minor": 5
}
